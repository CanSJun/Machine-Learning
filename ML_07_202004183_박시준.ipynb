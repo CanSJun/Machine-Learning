{
 "cells": [
  {
   "cell_type": "code",
   "execution_count": 188,
   "id": "4ff62b9e",
   "metadata": {},
   "outputs": [],
   "source": [
    "import pandas as pd\n",
    "from sklearn.model_selection import GridSearchCV\n",
    "from sklearn.datasets import load_iris\n",
    "from sklearn.tree import DecisionTreeClassifier\n",
    "from sklearn.model_selection import GridSearchCV\n",
    "from sklearn.model_selection import train_test_split\n",
    "\n",
    "df = pd.read_csv('mnist_test.csv', index_col = 0)\n",
    "\n",
    "\n",
    "features = pd.DataFrame(df.loc[ (df.index == 1) | (df.index == 4) | (df.index == 6)])\n",
    "labels = features.index\n",
    "\n",
    "trn_feats, tst_feats, trn_labels, tst_lables = train_test_split(features, labels)"
   ]
  },
  {
   "cell_type": "code",
   "execution_count": 185,
   "id": "0dcf5cc2",
   "metadata": {},
   "outputs": [
    {
     "name": "stdout",
     "output_type": "stream",
     "text": [
      "(2306, 784)\n",
      "(769, 784)\n",
      "(2306,)\n",
      "(769,)\n"
     ]
    }
   ],
   "source": [
    "print(trn_feats.shape)\n",
    "print(tst_feats.shape)\n",
    "print(trn_labels.shape)\n",
    "print(tst_lables.shape)"
   ]
  },
  {
   "cell_type": "code",
   "execution_count": 186,
   "id": "04b291ad",
   "metadata": {},
   "outputs": [
    {
     "data": {
      "text/plain": [
       "GridSearchCV(estimator=SVC(),\n",
       "             param_grid={'C': [0.1, 1, 5, 10], 'gamma': [0.1, 1, 5, 10]},\n",
       "             scoring='accuracy')"
      ]
     },
     "execution_count": 186,
     "metadata": {},
     "output_type": "execute_result"
    }
   ],
   "source": [
    "from sklearn import svm\n",
    "clf =svm.SVC(kernel = 'rbf')\n",
    "parameters = {\n",
    "    'gamma' : [0.1,1,5,10],\n",
    "    'C' :[0.1,1,5,10]\n",
    "}\n",
    "GSCV = GridSearchCV(clf, param_grid = parameters, scoring = 'accuracy')\n",
    "GSCV.fit(trn_feats, trn_labels)"
   ]
  },
  {
   "cell_type": "code",
   "execution_count": 187,
   "id": "e78ed301",
   "metadata": {},
   "outputs": [
    {
     "name": "stdout",
     "output_type": "stream",
     "text": [
      "best parameters :  {'C': 0.1, 'gamma': 0.1}\n",
      "best score :  0.37163891784282244\n",
      "MNIST test data에 대한 모델의 성능 :  0.36150845253576075\n"
     ]
    }
   ],
   "source": [
    "print('best parameters : ', GSCV.best_params_)\n",
    "print('best score : ', GSCV.best_score_)\n",
    "clf = GSCV.best_estimator_\n",
    "print(\"MNIST test data에 대한 모델의 성능 : \" , clf.score(tst_feats, tst_lables))"
   ]
  },
  {
   "cell_type": "code",
   "execution_count": null,
   "id": "4da19c7a",
   "metadata": {},
   "outputs": [],
   "source": []
  }
 ],
 "metadata": {
  "kernelspec": {
   "display_name": "Python 3 (ipykernel)",
   "language": "python",
   "name": "python3"
  },
  "language_info": {
   "codemirror_mode": {
    "name": "ipython",
    "version": 3
   },
   "file_extension": ".py",
   "mimetype": "text/x-python",
   "name": "python",
   "nbconvert_exporter": "python",
   "pygments_lexer": "ipython3",
   "version": "3.9.12"
  }
 },
 "nbformat": 4,
 "nbformat_minor": 5
}
