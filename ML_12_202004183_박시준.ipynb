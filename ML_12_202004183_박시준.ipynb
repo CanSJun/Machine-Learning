{
  "nbformat": 4,
  "nbformat_minor": 0,
  "metadata": {
    "colab": {
      "provenance": []
    },
    "kernelspec": {
      "name": "python3",
      "display_name": "Python 3"
    },
    "language_info": {
      "name": "python"
    },
    "accelerator": "GPU",
    "gpuClass": "standard"
  },
  "cells": [
    {
      "cell_type": "code",
      "execution_count": 18,
      "metadata": {
        "id": "zRCVpbU_w6lk"
      },
      "outputs": [],
      "source": [
        "import tensorflow as tf\n",
        "from tensorflow import keras\n",
        "ci10 = tf.keras.datasets.cifar10\n",
        "\n",
        "(x_train, y_train) , (x_test, y_test) = ci10.load_data()\n",
        "\n"
      ]
    },
    {
      "cell_type": "code",
      "source": [
        "print(x_train.shape , \" , \", x_train.shape)\n",
        "print(x_train[0].shape)\n"
      ],
      "metadata": {
        "colab": {
          "base_uri": "https://localhost:8080/"
        },
        "id": "b0bRIEwDAkMF",
        "outputId": "affe077d-503a-42c8-c151-3db1134fce87"
      },
      "execution_count": 19,
      "outputs": [
        {
          "output_type": "stream",
          "name": "stdout",
          "text": [
            "(50000, 32, 32, 3)  ,  (50000, 32, 32, 3)\n",
            "(32, 32, 3)\n"
          ]
        }
      ]
    },
    {
      "cell_type": "markdown",
      "source": [],
      "metadata": {
        "id": "n8Ymo5z_tsEo"
      }
    },
    {
      "cell_type": "code",
      "source": [
        "x_train = x_train / 255\n",
        "x_test = x_test / 255\n",
        "\n",
        "model = keras.models.Sequential([\n",
        "    keras.layers.Flatten(input_shape = (32, 32, 3)),\n",
        "    keras.layers.Dense(200, activation = 'relu'),\n",
        "    keras.layers.Dense(100, activation = 'relu'),\n",
        "    keras.layers.Dense(10, activation = 'softmax'),\n",
        "]\n",
        ")\n",
        "model.compile(optimizer = 'adam', loss = 'sparse_categorical_crossentropy', metrics = ['accuracy'])\n",
        "model.fit(x_train,y_train,epochs = 20)\n"
      ],
      "metadata": {
        "id": "W3_cAJXOFc3C",
        "colab": {
          "base_uri": "https://localhost:8080/"
        },
        "outputId": "01b037de-2522-4ea2-8c30-82ed897efb5e"
      },
      "execution_count": 20,
      "outputs": [
        {
          "output_type": "stream",
          "name": "stdout",
          "text": [
            "Epoch 1/20\n",
            "1563/1563 [==============================] - 6s 3ms/step - loss: 1.8638 - accuracy: 0.3251\n",
            "Epoch 2/20\n",
            "1563/1563 [==============================] - 5s 3ms/step - loss: 1.6909 - accuracy: 0.3924\n",
            "Epoch 3/20\n",
            "1563/1563 [==============================] - 5s 3ms/step - loss: 1.6160 - accuracy: 0.4207\n",
            "Epoch 4/20\n",
            "1563/1563 [==============================] - 5s 3ms/step - loss: 1.5589 - accuracy: 0.4420\n",
            "Epoch 5/20\n",
            "1563/1563 [==============================] - 6s 4ms/step - loss: 1.5244 - accuracy: 0.4560\n",
            "Epoch 6/20\n",
            "1563/1563 [==============================] - 5s 3ms/step - loss: 1.4965 - accuracy: 0.4633\n",
            "Epoch 7/20\n",
            "1563/1563 [==============================] - 5s 3ms/step - loss: 1.4760 - accuracy: 0.4732\n",
            "Epoch 8/20\n",
            "1563/1563 [==============================] - 5s 3ms/step - loss: 1.4584 - accuracy: 0.4798\n",
            "Epoch 9/20\n",
            "1563/1563 [==============================] - 5s 3ms/step - loss: 1.4360 - accuracy: 0.4857\n",
            "Epoch 10/20\n",
            "1563/1563 [==============================] - 5s 3ms/step - loss: 1.4228 - accuracy: 0.4919\n",
            "Epoch 11/20\n",
            "1563/1563 [==============================] - 5s 3ms/step - loss: 1.4117 - accuracy: 0.4936\n",
            "Epoch 12/20\n",
            "1563/1563 [==============================] - 5s 3ms/step - loss: 1.3956 - accuracy: 0.4993\n",
            "Epoch 13/20\n",
            "1563/1563 [==============================] - 5s 3ms/step - loss: 1.3906 - accuracy: 0.5029\n",
            "Epoch 14/20\n",
            "1563/1563 [==============================] - 5s 3ms/step - loss: 1.3775 - accuracy: 0.5078\n",
            "Epoch 15/20\n",
            "1563/1563 [==============================] - 5s 3ms/step - loss: 1.3710 - accuracy: 0.5101\n",
            "Epoch 16/20\n",
            "1563/1563 [==============================] - 5s 3ms/step - loss: 1.3602 - accuracy: 0.5134\n",
            "Epoch 17/20\n",
            "1563/1563 [==============================] - 5s 3ms/step - loss: 1.3502 - accuracy: 0.5160\n",
            "Epoch 18/20\n",
            "1563/1563 [==============================] - 5s 3ms/step - loss: 1.3441 - accuracy: 0.5204\n",
            "Epoch 19/20\n",
            "1563/1563 [==============================] - 5s 3ms/step - loss: 1.3355 - accuracy: 0.5212\n",
            "Epoch 20/20\n",
            "1563/1563 [==============================] - 5s 3ms/step - loss: 1.3307 - accuracy: 0.5272\n"
          ]
        },
        {
          "output_type": "execute_result",
          "data": {
            "text/plain": [
              "<keras.callbacks.History at 0x7f702438a210>"
            ]
          },
          "metadata": {},
          "execution_count": 20
        }
      ]
    },
    {
      "cell_type": "code",
      "source": [
        "print(\"신경망 모델 학습 결과 :\")\n",
        "eval_loss, eval_acc = model.evaluate(x_test, y_test)\n",
        "print(\"TEST 손실값 {} , TEST 정확도 {}\".format(eval_loss, eval_acc))"
      ],
      "metadata": {
        "colab": {
          "base_uri": "https://localhost:8080/"
        },
        "id": "gQ76YNA9B6nI",
        "outputId": "d445cbc8-41b6-42be-90c0-d2eb7c9e8c73"
      },
      "execution_count": 21,
      "outputs": [
        {
          "output_type": "stream",
          "name": "stdout",
          "text": [
            "신경망 모델 학습 결과 :\n",
            "313/313 [==============================] - 1s 3ms/step - loss: 1.4290 - accuracy: 0.4919\n",
            "TEST 손실값 1.4290101528167725 , TEST 정확도 0.4918999969959259\n"
          ]
        }
      ]
    },
    {
      "cell_type": "code",
      "source": [
        "model2 = keras.models.Sequential([\n",
        "    keras.layers.Conv2D(input_shape = (32 , 32 , 3), kernel_size = (3,3), padding = 'same', filters = 30),\n",
        "    keras.layers.MaxPool2D((2,2), strides = 2),\n",
        "    keras.layers.Conv2D(kernel_size = (3,3), padding = 'same', filters = 60),\n",
        "    keras.layers.MaxPool2D((2,2), strides = 2),\n",
        "    keras.layers.Flatten(),\n",
        "    keras.layers.Dense(64, activation = 'relu'),\n",
        "    keras.layers.Dense(32, activation = 'relu'),\n",
        "    keras.layers.Dense(10, activation = 'softmax')\n",
        "])\n",
        "\n",
        "model2.compile(optimizer = 'adam', loss = 'sparse_categorical_crossentropy', metrics = ['accuracy'])\n",
        "model2.fit(x_train,y_train,epochs = 20)"
      ],
      "metadata": {
        "colab": {
          "base_uri": "https://localhost:8080/"
        },
        "id": "L1U6lhgpCV3q",
        "outputId": "73c40b89-c1b9-428a-c756-e518d886d2c8"
      },
      "execution_count": 22,
      "outputs": [
        {
          "output_type": "stream",
          "name": "stdout",
          "text": [
            "Epoch 1/20\n",
            "1563/1563 [==============================] - 6s 4ms/step - loss: 1.3940 - accuracy: 0.5005\n",
            "Epoch 2/20\n",
            "1563/1563 [==============================] - 7s 4ms/step - loss: 1.0308 - accuracy: 0.6352\n",
            "Epoch 3/20\n",
            "1563/1563 [==============================] - 6s 4ms/step - loss: 0.8885 - accuracy: 0.6877\n",
            "Epoch 4/20\n",
            "1563/1563 [==============================] - 6s 4ms/step - loss: 0.7808 - accuracy: 0.7266\n",
            "Epoch 5/20\n",
            "1563/1563 [==============================] - 6s 4ms/step - loss: 0.6880 - accuracy: 0.7580\n",
            "Epoch 6/20\n",
            "1563/1563 [==============================] - 6s 4ms/step - loss: 0.5985 - accuracy: 0.7882\n",
            "Epoch 7/20\n",
            "1563/1563 [==============================] - 6s 4ms/step - loss: 0.5188 - accuracy: 0.8171\n",
            "Epoch 8/20\n",
            "1563/1563 [==============================] - 6s 4ms/step - loss: 0.4466 - accuracy: 0.8430\n",
            "Epoch 9/20\n",
            "1563/1563 [==============================] - 6s 4ms/step - loss: 0.3847 - accuracy: 0.8642\n",
            "Epoch 10/20\n",
            "1563/1563 [==============================] - 6s 4ms/step - loss: 0.3329 - accuracy: 0.8822\n",
            "Epoch 11/20\n",
            "1563/1563 [==============================] - 6s 4ms/step - loss: 0.2850 - accuracy: 0.8990\n",
            "Epoch 12/20\n",
            "1563/1563 [==============================] - 6s 4ms/step - loss: 0.2397 - accuracy: 0.9149\n",
            "Epoch 13/20\n",
            "1563/1563 [==============================] - 6s 4ms/step - loss: 0.2185 - accuracy: 0.9220\n",
            "Epoch 14/20\n",
            "1563/1563 [==============================] - 6s 4ms/step - loss: 0.1934 - accuracy: 0.9308\n",
            "Epoch 15/20\n",
            "1563/1563 [==============================] - 6s 4ms/step - loss: 0.1735 - accuracy: 0.9387\n",
            "Epoch 16/20\n",
            "1563/1563 [==============================] - 6s 4ms/step - loss: 0.1621 - accuracy: 0.9423\n",
            "Epoch 17/20\n",
            "1563/1563 [==============================] - 6s 4ms/step - loss: 0.1469 - accuracy: 0.9481\n",
            "Epoch 18/20\n",
            "1563/1563 [==============================] - 6s 4ms/step - loss: 0.1422 - accuracy: 0.9500\n",
            "Epoch 19/20\n",
            "1563/1563 [==============================] - 6s 4ms/step - loss: 0.1312 - accuracy: 0.9547\n",
            "Epoch 20/20\n",
            "1563/1563 [==============================] - 6s 4ms/step - loss: 0.1235 - accuracy: 0.9572\n"
          ]
        },
        {
          "output_type": "execute_result",
          "data": {
            "text/plain": [
              "<keras.callbacks.History at 0x7f7024203d50>"
            ]
          },
          "metadata": {},
          "execution_count": 22
        }
      ]
    },
    {
      "cell_type": "code",
      "source": [
        "print(\"CNN 학습 결과 :\")\n",
        "eval_loss, eval_acc = model2.evaluate(x_test, y_test)\n",
        "print(\"TEST 손실값 {} , TEST 정확도 {}\".format(eval_loss, eval_acc))"
      ],
      "metadata": {
        "id": "DkPrEtzMJ0Ty",
        "colab": {
          "base_uri": "https://localhost:8080/"
        },
        "outputId": "dd276407-9ad3-4a87-ad96-cf25645ddb6a"
      },
      "execution_count": 24,
      "outputs": [
        {
          "output_type": "stream",
          "name": "stdout",
          "text": [
            "CNN 학습 결과 :\n",
            "313/313 [==============================] - 1s 3ms/step - loss: 2.3897 - accuracy: 0.6606\n",
            "TEST 손실값 2.3896677494049072 , TEST 정확도 0.6606000065803528\n"
          ]
        }
      ]
    }
  ]
}