{
 "cells": [
  {
   "cell_type": "code",
   "execution_count": 33,
   "id": "0a4910c7",
   "metadata": {
    "scrolled": true
   },
   "outputs": [
    {
     "name": "stdout",
     "output_type": "stream",
     "text": [
      "DecisionTreeClassifier [random_state = 1] 정확도 : 87.50%\n",
      "DecisionTreeClassifier [random_state = 2] 정확도 : 88.54%\n",
      "DecisionTreeClassifier [random_state = 3] 정확도 : 88.02%\n",
      "DecisionTreeClassifier [random_state = 4] 정확도 : 88.54%\n",
      "DecisionTreeClassifier [random_state = 5] 정확도 : 87.50%\n",
      "DecisionTreeClassifier [random_state = 6] 정확도 : 85.94%\n",
      "DecisionTreeClassifier [random_state = 7] 정확도 : 88.54%\n",
      "DecisionTreeClassifier [random_state = 8] 정확도 : 88.54%\n",
      "DecisionTreeClassifier [random_state = 9] 정확도 : 86.98%\n",
      "DecisionTreeClassifier [random_state = 10] 정확도 : 87.50%\n",
      "DecisionTreeClassifier >> 총 평균 87.76%\n",
      "RandomForestClassifier 정확도 : 95.83%\n"
     ]
    }
   ],
   "source": [
    "import pandas as pd\n",
    "import numpy as np\n",
    "from sklearn.metrics import accuracy_score\n",
    "from sklearn.model_selection import train_test_split\n",
    "from sklearn.tree import DecisionTreeClassifier\n",
    "from sklearn.ensemble import RandomForestClassifier\n",
    "df = pd.read_csv('tic-tac-toe.csv', index_col = -1)\n",
    "for i in pd.DataFrame(df):\n",
    "  df[i],dic = pd.factorize(df[i], sort=True)\n",
    "\n",
    "features = pd.DataFrame(df)\n",
    "labels = pd.DataFrame(df.index)\n",
    "\n",
    "T_D, V_D , T_L, V_L = train_test_split(features,labels, test_size = 0.2, random_state = 0) \n",
    "# 4:1로 나누어 준다.\n",
    "\n",
    "\n",
    "av = 0\n",
    "for i in range(10) :\n",
    "    dec_tree = DecisionTreeClassifier(random_state = i + 1, criterion = 'entropy')\n",
    "    dec_tree.fit(T_D,T_L)\n",
    "\n",
    "    y_pred =dec_tree.predict(V_D)\n",
    "    av += accuracy_score(V_L, y_pred)*100\n",
    "    print(\"DecisionTreeClassifier [random_state = {}] 정확도 : {:.2f}%\".format(i + 1, accuracy_score(V_L, y_pred)*100))\n",
    "print(\"DecisionTreeClassifier >> 총 평균 {:.2f}%\".format(av / 10))\n",
    "\n",
    "ran_tree = RandomForestClassifier(criterion = 'entropy')\n",
    "ran_tree.fit(T_D,T_L.values.ravel())\n",
    "r_pred = ran_tree.predict(V_D)\n",
    "print(\"RandomForestClassifier 정확도 : {:.2f}%\".format(accuracy_score(V_L, r_pred)*100))"
   ]
  },
  {
   "cell_type": "code",
   "execution_count": null,
   "id": "ff0c16aa",
   "metadata": {},
   "outputs": [],
   "source": []
  }
 ],
 "metadata": {
  "kernelspec": {
   "display_name": "Python 3 (ipykernel)",
   "language": "python",
   "name": "python3"
  },
  "language_info": {
   "codemirror_mode": {
    "name": "ipython",
    "version": 3
   },
   "file_extension": ".py",
   "mimetype": "text/x-python",
   "name": "python",
   "nbconvert_exporter": "python",
   "pygments_lexer": "ipython3",
   "version": "3.9.12"
  }
 },
 "nbformat": 4,
 "nbformat_minor": 5
}
