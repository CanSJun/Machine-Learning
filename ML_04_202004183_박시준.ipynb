{
 "cells": [
  {
   "cell_type": "code",
   "execution_count": 1,
   "id": "660202a6",
   "metadata": {
    "scrolled": true
   },
   "outputs": [
    {
     "name": "stdout",
     "output_type": "stream",
     "text": [
      "0.7631578947368421\n",
      "0.7105263157894737\n",
      "0.7368421052631579\n",
      "0.6842105263157895\n"
     ]
    },
    {
     "name": "stderr",
     "output_type": "stream",
     "text": [
      "C:\\Users\\SJ\\anaconda3\\lib\\site-packages\\sklearn\\neighbors\\_classification.py:198: DataConversionWarning: A column-vector y was passed when a 1d array was expected. Please change the shape of y to (n_samples,), for example using ravel().\n",
      "  return self._fit(X, y)\n",
      "C:\\Users\\SJ\\anaconda3\\lib\\site-packages\\sklearn\\neighbors\\_classification.py:198: DataConversionWarning: A column-vector y was passed when a 1d array was expected. Please change the shape of y to (n_samples,), for example using ravel().\n",
      "  return self._fit(X, y)\n",
      "C:\\Users\\SJ\\anaconda3\\lib\\site-packages\\sklearn\\neighbors\\_classification.py:198: DataConversionWarning: A column-vector y was passed when a 1d array was expected. Please change the shape of y to (n_samples,), for example using ravel().\n",
      "  return self._fit(X, y)\n",
      "C:\\Users\\SJ\\anaconda3\\lib\\site-packages\\sklearn\\neighbors\\_classification.py:198: DataConversionWarning: A column-vector y was passed when a 1d array was expected. Please change the shape of y to (n_samples,), for example using ravel().\n",
      "  return self._fit(X, y)\n"
     ]
    }
   ],
   "source": [
    "'''Normalization 하기 전'''\n",
    "import pandas as pd\n",
    "from sklearn.model_selection import train_test_split\n",
    "from sklearn.neighbors import KNeighborsClassifier\n",
    "df = pd.read_csv('lab4_test.csv', index_col = -1)\n",
    "features = pd.DataFrame(df)\n",
    "labels = pd.DataFrame(df.index)\n",
    "\n",
    "T_D, V_D , T_L, V_L = train_test_split(features,labels)\n",
    "\n",
    "cl = KNeighborsClassifier(n_neighbors = 1)\n",
    "cl.fit(T_D, T_L)\n",
    "print(cl.score(V_D, V_L))\n",
    "\n",
    "cl = KNeighborsClassifier(n_neighbors = 3)\n",
    "cl.fit(T_D, T_L)\n",
    "print(cl.score(V_D, V_L))\n",
    "\n",
    "cl = KNeighborsClassifier(n_neighbors = 5)\n",
    "cl.fit(T_D, T_L)\n",
    "print(cl.score(V_D, V_L))\n",
    "\n",
    "cl = KNeighborsClassifier(n_neighbors = 10)\n",
    "cl.fit(T_D, T_L)\n",
    "print(cl.score(V_D, V_L))"
   ]
  },
  {
   "cell_type": "code",
   "execution_count": 2,
   "id": "18b6c51a",
   "metadata": {},
   "outputs": [
    {
     "name": "stdout",
     "output_type": "stream",
     "text": [
      "0.9210526315789473\n",
      "0.9210526315789473\n",
      "0.8947368421052632\n",
      "0.9473684210526315\n"
     ]
    },
    {
     "name": "stderr",
     "output_type": "stream",
     "text": [
      "C:\\Users\\SJ\\anaconda3\\lib\\site-packages\\sklearn\\neighbors\\_classification.py:198: DataConversionWarning: A column-vector y was passed when a 1d array was expected. Please change the shape of y to (n_samples,), for example using ravel().\n",
      "  return self._fit(X, y)\n",
      "C:\\Users\\SJ\\anaconda3\\lib\\site-packages\\sklearn\\neighbors\\_classification.py:198: DataConversionWarning: A column-vector y was passed when a 1d array was expected. Please change the shape of y to (n_samples,), for example using ravel().\n",
      "  return self._fit(X, y)\n",
      "C:\\Users\\SJ\\anaconda3\\lib\\site-packages\\sklearn\\neighbors\\_classification.py:198: DataConversionWarning: A column-vector y was passed when a 1d array was expected. Please change the shape of y to (n_samples,), for example using ravel().\n",
      "  return self._fit(X, y)\n",
      "C:\\Users\\SJ\\anaconda3\\lib\\site-packages\\sklearn\\neighbors\\_classification.py:198: DataConversionWarning: A column-vector y was passed when a 1d array was expected. Please change the shape of y to (n_samples,), for example using ravel().\n",
      "  return self._fit(X, y)\n"
     ]
    }
   ],
   "source": [
    "'''Normalization 후'''\n",
    "from sklearn.preprocessing import StandardScaler\n",
    "\n",
    "\n",
    "std_scaler = StandardScaler()\n",
    "std_scaled = std_scaler.fit_transform(features)\n",
    "T_D, V_D , T_L, V_L = train_test_split(std_scaled,labels)\n",
    "\n",
    "cl = KNeighborsClassifier(n_neighbors = 1)\n",
    "cl.fit(T_D, T_L)\n",
    "print(cl.score(V_D, V_L))\n",
    "\n",
    "cl = KNeighborsClassifier(n_neighbors = 3)\n",
    "cl.fit(T_D, T_L)\n",
    "print(cl.score(V_D, V_L))\n",
    "\n",
    "cl = KNeighborsClassifier(n_neighbors = 5)\n",
    "cl.fit(T_D, T_L)\n",
    "print(cl.score(V_D, V_L))\n",
    "\n",
    "cl = KNeighborsClassifier(n_neighbors = 10)\n",
    "cl.fit(T_D, T_L)\n",
    "print(cl.score(V_D, V_L))"
   ]
  },
  {
   "cell_type": "code",
   "execution_count": null,
   "id": "82d28fcc",
   "metadata": {},
   "outputs": [],
   "source": []
  }
 ],
 "metadata": {
  "kernelspec": {
   "display_name": "Python 3 (ipykernel)",
   "language": "python",
   "name": "python3"
  },
  "language_info": {
   "codemirror_mode": {
    "name": "ipython",
    "version": 3
   },
   "file_extension": ".py",
   "mimetype": "text/x-python",
   "name": "python",
   "nbconvert_exporter": "python",
   "pygments_lexer": "ipython3",
   "version": "3.9.12"
  }
 },
 "nbformat": 4,
 "nbformat_minor": 5
}
