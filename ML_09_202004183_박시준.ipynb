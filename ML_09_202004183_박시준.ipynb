{
 "cells": [
  {
   "cell_type": "code",
   "execution_count": 1,
   "id": "17d46146",
   "metadata": {},
   "outputs": [],
   "source": [
    "from sklearn.datasets import load_files\n",
    "review_train = load_files(\"./aclImdb_v1/aclImdb/train/\")\n",
    "text_train, y_train = review_train.data, review_train.target\n",
    "\n",
    "reviews_test = load_files(\"./aclImdb_v1/aclImdb/test/\")\n",
    "text_test, y_test = reviews_test.data, reviews_test.target"
   ]
  },
  {
   "cell_type": "code",
   "execution_count": 2,
   "id": "357cc685",
   "metadata": {},
   "outputs": [],
   "source": [
    "text_train = [doc.replace(b\"<br />\", b\" \") for doc in text_train]\n",
    "text_test = [doc.replace(b\"<br />\", b\" \") for doc in text_test]"
   ]
  },
  {
   "cell_type": "code",
   "execution_count": 3,
   "id": "ed85f7a4",
   "metadata": {},
   "outputs": [],
   "source": [
    "from sklearn.feature_extraction.text import CountVectorizer\n",
    "from sklearn.feature_extraction.text import ENGLISH_STOP_WORDS\n",
    "vect = CountVectorizer(min_df = 5, stop_words = \"english\").fit(text_train + text_test)\n",
    "\n",
    "A = vect.transform(text_train)\n",
    "B = vect.transform(text_test)"
   ]
  },
  {
   "cell_type": "code",
   "execution_count": 4,
   "id": "58b7ff40",
   "metadata": {},
   "outputs": [],
   "source": [
    "from sklearn.decomposition import PCA\n",
    "pca = PCA(n_components = 2)\n",
    "decopsed_train_X = pca.fit_transform(A.toarray())\n",
    "decopsed_test_X = pca.fit_transform(B.toarray())"
   ]
  },
  {
   "cell_type": "code",
   "execution_count": 5,
   "id": "913d8174",
   "metadata": {},
   "outputs": [
    {
     "data": {
      "text/plain": [
       "KNeighborsClassifier(n_neighbors=1)"
      ]
     },
     "execution_count": 5,
     "metadata": {},
     "output_type": "execute_result"
    }
   ],
   "source": [
    "from sklearn.neighbors import KNeighborsClassifier\n",
    "clf = KNeighborsClassifier(n_neighbors = 1)\n",
    "clf.fit(decopsed_train_X, y_train)"
   ]
  },
  {
   "cell_type": "code",
   "execution_count": 6,
   "id": "10f59894",
   "metadata": {},
   "outputs": [
    {
     "name": "stdout",
     "output_type": "stream",
     "text": [
      "CountVectorizer 정확도 : 0.51132 \n"
     ]
    }
   ],
   "source": [
    "print(\"CountVectorizer 정확도 : {} \".format( clf.score(decopsed_test_X,  y_test)))"
   ]
  },
  {
   "cell_type": "code",
   "execution_count": 7,
   "id": "48c5bca1",
   "metadata": {},
   "outputs": [],
   "source": [
    "from sklearn.feature_extraction.text import TfidfVectorizer\n",
    "\n",
    "vectorizer = TfidfVectorizer(norm = 'l2').fit(text_train + text_test)\n",
    "A2 = vectorizer.transform(text_train)\n",
    "B2 = vectorizer.transform(text_test)\n"
   ]
  },
  {
   "cell_type": "code",
   "execution_count": 8,
   "id": "1030d698",
   "metadata": {},
   "outputs": [],
   "source": [
    "pca = PCA(n_components = 2)\n",
    "decopsed_train_X2 = pca.fit_transform(A2.toarray())\n",
    "decopsed_test_X2 = pca.fit_transform(B2.toarray())"
   ]
  },
  {
   "cell_type": "code",
   "execution_count": 9,
   "id": "d24dba06",
   "metadata": {},
   "outputs": [
    {
     "data": {
      "text/plain": [
       "KNeighborsClassifier(n_neighbors=1)"
      ]
     },
     "execution_count": 9,
     "metadata": {},
     "output_type": "execute_result"
    }
   ],
   "source": [
    "clf = KNeighborsClassifier(n_neighbors = 1)\n",
    "clf.fit(decopsed_train_X2, y_train)"
   ]
  },
  {
   "cell_type": "code",
   "execution_count": 10,
   "id": "abd450de",
   "metadata": {},
   "outputs": [
    {
     "name": "stdout",
     "output_type": "stream",
     "text": [
      "TfidfVectorizer 정확도 : 0.53176 \n"
     ]
    }
   ],
   "source": [
    "print(\"TfidfVectorizer 정확도 [ norm = 'l2' ]: {} \".format( clf.score(decopsed_test_X2,  y_test)))"
   ]
  },
  {
   "cell_type": "code",
   "execution_count": null,
   "id": "df324de5",
   "metadata": {},
   "outputs": [],
   "source": []
  }
 ],
 "metadata": {
  "kernelspec": {
   "display_name": "Python 3 (ipykernel)",
   "language": "python",
   "name": "python3"
  },
  "language_info": {
   "codemirror_mode": {
    "name": "ipython",
    "version": 3
   },
   "file_extension": ".py",
   "mimetype": "text/x-python",
   "name": "python",
   "nbconvert_exporter": "python",
   "pygments_lexer": "ipython3",
   "version": "3.9.12"
  }
 },
 "nbformat": 4,
 "nbformat_minor": 5
}
