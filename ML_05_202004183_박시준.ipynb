{
 "cells": [
  {
   "cell_type": "code",
   "execution_count": 1,
   "id": "742204c6",
   "metadata": {},
   "outputs": [
    {
     "name": "stdout",
     "output_type": "stream",
     "text": [
      "=============top-left-square=============\n",
      "B : 108  GINI 0.3776350009434164\n",
      "O : 152  GINI 0.4151226733114305\n",
      "X : 219  GINI 0.4432734409800637\n",
      "=============top-middle-square=============\n",
      "B : 128  GINI 0.3965422329596626\n",
      "O : 173  GINI 0.4277041523938462\n",
      "X : 178  GINI 0.4301939936470144\n",
      "=============top-right-square=============\n",
      "B : 104  GINI 0.37348007835219194\n",
      "O : 145  GINI 0.41016633306684247\n",
      "X : 230  GINI 0.4445572653762286\n",
      "=============middle-left-square=============\n",
      "B : 136  GINI 0.4032336813275522\n",
      "O : 177  GINI 0.42971158690421307\n",
      "X : 166  GINI 0.42389158297493235\n",
      "=============middle-middle-square=============\n",
      "B : 86  GINI 0.35324233741628397\n",
      "O : 114  GINI 0.3836339622127686\n",
      "X : 279  GINI 0.43883841124785783\n",
      "=============middle-right-square=============\n",
      "B : 128  GINI 0.3965422329596626\n",
      "O : 178  GINI 0.4301939936470144\n",
      "X : 173  GINI 0.4277041523938462\n",
      "=============bottom-left-square=============\n",
      "B : 103  GINI 0.3724218958195954\n",
      "O : 150  GINI 0.4137454798682718\n",
      "X : 226  GINI 0.4441993506960857\n",
      "=============bottom-middle-square=============\n",
      "B : 131  GINI 0.39910988175199236\n",
      "O : 172  GINI 0.42718284188146416\n",
      "X : 176  GINI 0.4292213994074956\n",
      "=============bottom-right-square=============\n",
      "B : 112  GINI 0.3816654314719825\n",
      "O : 137  GINI 0.4040350989809157\n",
      "X : 230  GINI 0.4445572653762286\n",
      "=======================================\n",
      "MIN : middle-middle-square B GINI : 0.35324233741628397\n"
     ]
    }
   ],
   "source": [
    "import pandas as pd\n",
    "import numpy as np\n",
    "from sklearn.model_selection import train_test_split\n",
    "\n",
    "df = pd.read_csv('tic-tac-toe.csv', index_col = -1)\n",
    "\n",
    "\n",
    "for i in pd.DataFrame(df):\n",
    "    df[i],dic = pd.factorize(df[i], sort=True)\n",
    "\n",
    "features = pd.DataFrame(df)\n",
    "labels = pd.DataFrame(df.index)\n",
    "\n",
    "'''  b  => 0\n",
    "     o  => 1\n",
    "     x  => 2\n",
    "     1 => positive\n",
    "     0 => negative\n",
    "'''\n",
    "T_D, V_D , T_L, V_L = train_test_split(features,labels)\n",
    "\n",
    "min_gini = 1\n",
    "min_gini_s = \"\"\n",
    "min_gini_ss = \"\"\n",
    "min_gini_sn = 0\n",
    "num = 0\n",
    "for i in T_D:\n",
    "    count_o = 0\n",
    "    count_x = 0\n",
    "    count_b = 0\n",
    "    num = 0\n",
    "    for j in T_D[i]:\n",
    "        num += 1\n",
    "        num2 = num\n",
    "        for z in T_L['Class']:\n",
    "            if(num2 == 1):\n",
    "                if(j == 0 and z == \"positive\"):\n",
    "                    count_b += 1\n",
    "                if(j == 1and z == \"positive\"):\n",
    "                    count_o += 1\n",
    "                if(j == 2and z == \"positive\"):\n",
    "                    count_x += 1\n",
    "                break\n",
    "            else:\n",
    "                num2 -= 1\n",
    "    gini =    (count_b/len(T_D)) * (1 -(count_b/len(T_D))) + ((count_x + count_o)/len(T_D)) * (1 -(count_x + count_o)/len(T_D))\n",
    "    gini2 =   (count_o/len(T_D)) * (1 -(count_o/len(T_D))) + ((count_b + count_x)/len(T_D)) * (1 -(count_b + count_x)/len(T_D))\n",
    "    gini3 =   (count_x/len(T_D)) * (1 -(count_x/len(T_D))) + ((count_b + count_o)/len(T_D)) * (1 -(count_b + count_o)/len(T_D))\n",
    "\n",
    "    print(\"============={}=============\".format(i))\n",
    "    print(\"B : {}  GINI {}\".format(count_b, gini))\n",
    "    print(\"O : {}  GINI {}\".format(count_o, gini2))\n",
    "    print(\"X : {}  GINI {}\".format(count_x, gini3))\n",
    "    if(gini < min_gini):\n",
    "        min_gini = gini\n",
    "        min_gini_s = i\n",
    "        min_gini_ss = \"B\"\n",
    "        min_gini_sn = 0\n",
    "    if(gini2 < min_gini):\n",
    "        min_gini = gini2\n",
    "        min_gini_s = i\n",
    "        min_gini_ss = \"O\"\n",
    "        min_gini_sn = 1\n",
    "    if(gini3 < min_gini):\n",
    "        min_gini = gini3\n",
    "        min_gini_s = i\n",
    "        min_gini_ss = \"X\"\n",
    "        min_gini_sn = 2\n",
    "print(\"=======================================\")\n",
    "print(\"MIN : {} {} GINI : {}\".format(min_gini_s, min_gini_ss, min_gini))\n"
   ]
  },
  {
   "cell_type": "code",
   "execution_count": 43,
   "id": "d6f51d80",
   "metadata": {},
   "outputs": [
    {
     "name": "stdout",
     "output_type": "stream",
     "text": [
      "68.42105263157895 %\n"
     ]
    }
   ],
   "source": [
    "\n",
    "for i in V_D:\n",
    "    check = 0\n",
    "    count = 0\n",
    "    nega_count = 0\n",
    "    num = 0\n",
    "    for j in V_D[i]:\n",
    "        num += 1\n",
    "        if(i == min_gini_s and j == min_gini_sn):  \n",
    "            num2 = num\n",
    "            for z in V_L['Class']:\n",
    "                if(num2 == 1):\n",
    "                    if(j == min_gini_sn and(z == \"positive\") ):\n",
    "                        check = 1\n",
    "                        count += 1\n",
    "                    if(j == min_gini_sn and(z == \"negative\") ):\n",
    "                        nega_count +=1\n",
    "                    break\n",
    "                    \n",
    "                else:\n",
    "                    num2 -= 1\n",
    "    if(check == 1):\n",
    "        print(\"{} %\".format((count/(count+nega_count) * 100)))\n",
    "\n"
   ]
  },
  {
   "cell_type": "code",
   "execution_count": 11,
   "id": "e5bf6eb2",
   "metadata": {},
   "outputs": [
    {
     "name": "stdout",
     "output_type": "stream",
     "text": [
      "64.58333333333334\n"
     ]
    },
    {
     "data": {
      "text/plain": [
       "'\\n코드가 잘못짜여진것 같다.\\n'"
      ]
     },
     "execution_count": 11,
     "metadata": {},
     "output_type": "execute_result"
    }
   ],
   "source": [
    "from sklearn.tree import DecisionTreeClassifier\n",
    "tree = DecisionTreeClassifier(random_state = 0)\n",
    "tree.fit(T_D, T_L)\n",
    "y_pred = tree.predict(V_D)\n",
    "print(np.mean(y_pred == \"positive\") * 100)\n",
    "'''\n",
    "코드가 잘못짜여진것 같다.\n",
    "'''"
   ]
  },
  {
   "cell_type": "code",
   "execution_count": null,
   "id": "f97eb78c",
   "metadata": {},
   "outputs": [],
   "source": []
  },
  {
   "cell_type": "code",
   "execution_count": null,
   "id": "671f334e",
   "metadata": {},
   "outputs": [],
   "source": []
  }
 ],
 "metadata": {
  "kernelspec": {
   "display_name": "Python 3 (ipykernel)",
   "language": "python",
   "name": "python3"
  },
  "language_info": {
   "codemirror_mode": {
    "name": "ipython",
    "version": 3
   },
   "file_extension": ".py",
   "mimetype": "text/x-python",
   "name": "python",
   "nbconvert_exporter": "python",
   "pygments_lexer": "ipython3",
   "version": "3.9.12"
  }
 },
 "nbformat": 4,
 "nbformat_minor": 5
}
